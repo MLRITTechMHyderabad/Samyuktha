{
 "cells": [
  {
   "cell_type": "code",
   "execution_count": 3,
   "id": "33121c7f-fd8e-462a-a803-19148f765723",
   "metadata": {},
   "outputs": [
    {
     "name": "stdout",
     "output_type": "stream",
     "text": [
      "{'Alice': [85, 90, 78, 92], 'Bob': [60, 65, 70, 75], 'Charlie': [40, 45, 50, 55], 'David': [95, 100, 98, 92]}\n"
     ]
    },
    {
     "name": "stdin",
     "output_type": "stream",
     "text": [
      "Enter student name:  Bob\n"
     ]
    },
    {
     "name": "stdout",
     "output_type": "stream",
     "text": [
      "Grade: 67.5\n",
      "Top student: David with an average grade of 96.25\n",
      "Number of students who passed: 3\n"
     ]
    }
   ],
   "source": [
    "\n",
    "\n",
    "\n",
    "student_records = [\n",
    "    (\"Alice\", [85, 90, 78, 92]),\n",
    "    (\"Bob\", [60, 65, 70, 75]),\n",
    "    (\"Charlie\", [40, 45, 50, 55]),\n",
    "    (\"David\", [95, 100, 98, 92])\n",
    "]\n",
    "\n",
    "# Convert list to dictionary\n",
    "student_dict = dict(student_records)\n",
    "\n",
    "# Print dictionary (optional)\n",
    "print(student_dict)\n",
    "\n",
    "# Get user input for a specific student's grade\n",
    "student_name = input(\"Enter student name: \")\n",
    "if student_name in student_dict:\n",
    "    average_score = sum(student_dict[student_name]) / len(student_dict[student_name])\n",
    "    print(\"Grade:\", average_score)\n",
    "else:\n",
    "    print(\"Student not found!\")\n",
    "\n",
    "# Function to find student with the highest average\n",
    "def find_topper():\n",
    "    max_average = 0\n",
    "    best_student = \"\"\n",
    "\n",
    "    for name, marks in student_dict.items():\n",
    "        avg_marks = sum(marks) / len(marks)\n",
    "        if avg_marks > max_average:\n",
    "            max_average = avg_marks\n",
    "            best_student = name\n",
    "    \n",
    "    print(f\"Top student: {best_student} with an average grade of {max_average}\")\n",
    "\n",
    "# Call the function\n",
    "find_topper()\n",
    "\n",
    "# Count number of students who passed\n",
    "passed_students = sum(1 for marks in student_dict.values() if sum(marks) / len(marks) >= 50)\n",
    "print(f\"Number of students who passed: {passed_students}\")"
   ]
  },
  {
   "cell_type": "code",
   "execution_count": null,
   "id": "c35a0fbf-54b6-4e8e-9216-c9f37e9c9138",
   "metadata": {},
   "outputs": [],
   "source": []
  }
 ],
 "metadata": {
  "kernelspec": {
   "display_name": "Python 3 (ipykernel)",
   "language": "python",
   "name": "python3"
  },
  "language_info": {
   "codemirror_mode": {
    "name": "ipython",
    "version": 3
   },
   "file_extension": ".py",
   "mimetype": "text/x-python",
   "name": "python",
   "nbconvert_exporter": "python",
   "pygments_lexer": "ipython3",
   "version": "3.12.7"
  }
 },
 "nbformat": 4,
 "nbformat_minor": 5
}
