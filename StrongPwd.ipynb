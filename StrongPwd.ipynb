{
 "cells": [
  {
   "cell_type": "code",
   "execution_count": 1,
   "id": "45b88bc2-ae09-4016-816c-d5622dcd9407",
   "metadata": {},
   "outputs": [
    {
     "name": "stdout",
     "output_type": "stream",
     "text": [
      "WeakPass -> Invalid\n",
      "Str0ng@Pass -> Valid\n",
      "NoSpecial1 -> Invalid\n",
      "short!1 -> Invalid\n",
      "Secure#123 -> Valid\n"
     ]
    }
   ],
   "source": [
    "import re\n",
    "\n",
    "def is_strong_password(password):\n",
    "   \n",
    "    if len(password) < 8:\n",
    "        return False\n",
    "    if not re.search(r'[A-Z]', password):  \n",
    "        return False\n",
    "    if not re.search(r'[a-z]', password):  \n",
    "        return False\n",
    "    if not re.search(r'\\d', password):     \n",
    "        return False\n",
    "    if not re.search(r'[@$!%*?&#]', password):  \n",
    "        return False\n",
    "    return True\n",
    "\n",
    "\n",
    "passwords = [\"WeakPass\", \"Str0ng@Pass\", \"NoSpecial1\", \"short!1\", \"Secure#123\"]\n",
    "\n",
    "\n",
    "for pwd in passwords:\n",
    "    result = \"Valid\" if is_strong_password(pwd) else \"Invalid\"\n",
    "    print(f\"{pwd} -> {result}\")\n"
   ]
  },
  {
   "cell_type": "code",
   "execution_count": null,
   "id": "a1a56fb5-f4f5-4276-9694-04fcc112efd2",
   "metadata": {},
   "outputs": [],
   "source": []
  }
 ],
 "metadata": {
  "kernelspec": {
   "display_name": "Python 3 (ipykernel)",
   "language": "python",
   "name": "python3"
  },
  "language_info": {
   "codemirror_mode": {
    "name": "ipython",
    "version": 3
   },
   "file_extension": ".py",
   "mimetype": "text/x-python",
   "name": "python",
   "nbconvert_exporter": "python",
   "pygments_lexer": "ipython3",
   "version": "3.12.7"
  }
 },
 "nbformat": 4,
 "nbformat_minor": 5
}
