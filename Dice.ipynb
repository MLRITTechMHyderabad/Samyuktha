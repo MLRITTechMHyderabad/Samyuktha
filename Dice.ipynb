{
 "cells": [
  {
   "cell_type": "code",
   "execution_count": 6,
   "id": "0f809327-446d-462d-a854-cf5bf8893bb9",
   "metadata": {},
   "outputs": [
    {
     "name": "stdin",
     "output_type": "stream",
     "text": [
      " 4\n",
      " 1 2 3 4\n",
      " 3 4 1 2\n",
      " 1 2 3 4\n",
      " 3 4 1 2\n"
     ]
    },
    {
     "name": "stdout",
     "output_type": "stream",
     "text": [
      "It's a draw\n"
     ]
    }
   ],
   "source": [
    "dice1 = [1, 2, 3, 4, 5, 6]\n",
    "dice2 = [1, 2, 3, 4, 5, 6]\n",
    "probability_dict = {}\n",
    "for i in range(2, 13):  \n",
    "    c = 0\n",
    "    for j in [(d1, d2) for d1 in dice1 for d2 in dice2]:\n",
    "        if i == sum(j):\n",
    "            c += 1\n",
    "    probability_dict[i] = c / 36  \n",
    "R = int(input())  \n",
    "player1_wins = 0\n",
    "player2_wins = 0\n",
    "def get_probability(sum_value):\n",
    "    return probability_dict[sum_value]\n",
    "for _ in range(R):\n",
    "    P1_d1, P1_d2, P2_d1, P2_d2 = map(int, input().split())\n",
    "    \n",
    "    P1_sum = P1_d1 + P1_d2\n",
    "    P2_sum = P2_d1 + P2_d2\n",
    "    P1_prob = get_probability(P1_sum)\n",
    "    P2_prob = get_probability(P2_sum)\n",
    "    \n",
    "    if P1_prob < P2_prob:\n",
    "        player1_wins += 1\n",
    "    elif P2_prob < P1_prob:\n",
    "        player2_wins += 1\n",
    "if player1_wins > player2_wins:\n",
    "    print(\"Player 1 wins\")\n",
    "elif player2_wins > player1_wins:\n",
    "    print(\"Player 2 wins\")\n",
    "else:\n",
    "    print(\"It's a draw\")"
   ]
  },
  {
   "cell_type": "code",
   "execution_count": null,
   "id": "a67cf085-00df-4b80-ac30-32255ef41770",
   "metadata": {},
   "outputs": [],
   "source": []
  },
  {
   "cell_type": "code",
   "execution_count": null,
   "id": "688bfff2-131d-49fb-b03d-2b51eda05faa",
   "metadata": {},
   "outputs": [],
   "source": []
  }
 ],
 "metadata": {
  "kernelspec": {
   "display_name": "Python 3 (ipykernel)",
   "language": "python",
   "name": "python3"
  },
  "language_info": {
   "codemirror_mode": {
    "name": "ipython",
    "version": 3
   },
   "file_extension": ".py",
   "mimetype": "text/x-python",
   "name": "python",
   "nbconvert_exporter": "python",
   "pygments_lexer": "ipython3",
   "version": "3.12.7"
  }
 },
 "nbformat": 4,
 "nbformat_minor": 5
}
