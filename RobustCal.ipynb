{
 "cells": [
  {
   "cell_type": "code",
   "execution_count": 1,
   "id": "3b413ef7-a7ee-4a5b-9741-b7f096b09ee3",
   "metadata": {},
   "outputs": [
    {
     "name": "stdout",
     "output_type": "stream",
     "text": [
      "Error: Division by zero\n",
      "Error: Invalid input type\n",
      "Error: Unsupported operator\n"
     ]
    }
   ],
   "source": [
    "def calculator(a, b, operator):\n",
    "    \n",
    "    try:\n",
    "        # TODO: Implement operation handling and raise exceptions for invalid cases\n",
    "       # if b==0:\n",
    "       #    raise zeroDivisionException(\"b could not be negative\")\n",
    "       #    print(a/b)    \n",
    "       # elif b==\"five\":\n",
    "       #     print(\"Invalid input type\")\n",
    "        if operator==\"+\":\n",
    "            return a+b\n",
    "        elif operator==\"-\":\n",
    "            return a-b\n",
    "        elif operator == \"*\":\n",
    "            return a*b\n",
    "        elif operator == \"/\":\n",
    "            if b==0:\n",
    "                raise ZeroDivisionError(\"b could not be zero\")\n",
    "            return a/b\n",
    "        elif operator == \"**\":\n",
    "             return a**b\n",
    "        else:\n",
    "             return \"Error: Unsupported operator\" \n",
    "      \n",
    "        if b==\"five\":\n",
    "            raise TypeError(\"b could not be string\")\n",
    "            \n",
    "         \n",
    "    except ZeroDivisionError :\n",
    "        return \"Error: Division by zero\" # TODO: Handle division by zero\n",
    "    except ValueError :\n",
    "        return \"Error: Invalid input type\" # TODO: Handle invalid numbers\n",
    "    except TypeError:\n",
    "           return \"Error: Invalid input type\" # TODO: Handle non-numeric input\n",
    "    except Exception as e:\n",
    "        pass  # TODO: Handle any unexpected exceptions\n",
    "\n",
    "# Example Usage:\n",
    "print(calculator(10, 0, \"/\"))  # Should return: \"Error: Division by zero\"\n",
    "print(calculator(10, \"five\", \"+\"))  # Should return: \"Error: Invalid input type\"\n",
    "print(calculator(10, 5, \"$\"))  # Should return: \"Error: Unsupported operator\"\n"
   ]
  },
  {
   "cell_type": "code",
   "execution_count": null,
   "id": "fd6187dd-68b2-48ce-ba64-455dd1d2cb36",
   "metadata": {},
   "outputs": [],
   "source": [
    "\n"
   ]
  },
  {
   "cell_type": "code",
   "execution_count": null,
   "id": "eddcecc6-c4a2-4843-9c06-686672966a55",
   "metadata": {},
   "outputs": [],
   "source": []
  },
  {
   "cell_type": "code",
   "execution_count": null,
   "id": "88ce55a3-4d5c-4149-ad95-de0ff31bc823",
   "metadata": {},
   "outputs": [],
   "source": []
  }
 ],
 "metadata": {
  "kernelspec": {
   "display_name": "Python 3 (ipykernel)",
   "language": "python",
   "name": "python3"
  },
  "language_info": {
   "codemirror_mode": {
    "name": "ipython",
    "version": 3
   },
   "file_extension": ".py",
   "mimetype": "text/x-python",
   "name": "python",
   "nbconvert_exporter": "python",
   "pygments_lexer": "ipython3",
   "version": "3.12.7"
  }
 },
 "nbformat": 4,
 "nbformat_minor": 5
}
