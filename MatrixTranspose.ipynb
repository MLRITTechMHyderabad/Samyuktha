{
 "cells": [
  {
   "cell_type": "code",
   "execution_count": 1,
   "id": "9feb5f7c-9119-4097-b9de-a86c4a0cc383",
   "metadata": {},
   "outputs": [
    {
     "name": "stdout",
     "output_type": "stream",
     "text": [
      "147\n",
      "258\n",
      "369\n"
     ]
    }
   ],
   "source": [
    "li=[\n",
    "    [1,2,3],\n",
    "     [4,5,6],\n",
    "     [7,8,9]\n",
    "    ]\n",
    "for i in range(0,len(li)):\n",
    "    for j in range(0,len(li[i])):\n",
    "        print(li[j][i],end=\"\")\n",
    "    print() "
   ]
  },
  {
   "cell_type": "code",
   "execution_count": null,
   "id": "b0883736-4bbb-4c28-a4a6-1ae9355506b2",
   "metadata": {},
   "outputs": [],
   "source": []
  },
  {
   "cell_type": "code",
   "execution_count": null,
   "id": "f70468b5-a46c-4a9f-9759-5bb7357a274f",
   "metadata": {},
   "outputs": [],
   "source": []
  }
 ],
 "metadata": {
  "kernelspec": {
   "display_name": "Python 3 (ipykernel)",
   "language": "python",
   "name": "python3"
  },
  "language_info": {
   "codemirror_mode": {
    "name": "ipython",
    "version": 3
   },
   "file_extension": ".py",
   "mimetype": "text/x-python",
   "name": "python",
   "nbconvert_exporter": "python",
   "pygments_lexer": "ipython3",
   "version": "3.12.7"
  }
 },
 "nbformat": 4,
 "nbformat_minor": 5
}
