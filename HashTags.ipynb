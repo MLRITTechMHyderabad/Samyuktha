{
 "cells": [
  {
   "cell_type": "code",
   "execution_count": 1,
   "id": "7ba03f8a-d80b-40a9-9314-8e9eaefabbbc",
   "metadata": {},
   "outputs": [
    {
     "name": "stdout",
     "output_type": "stream",
     "text": [
      "['#Python', '#coding', '#100DaysOfCode', '#Regex_Challenge']\n"
     ]
    }
   ],
   "source": [
    "import re\n",
    "\n",
    "def extract_hashtags(text):\n",
    "    # Regex pattern to match hashtags\n",
    "    hashtag_pattern = r'#\\w+'\n",
    "    \n",
    "    # Find all matching hashtags\n",
    "    hashtags = re.findall(hashtag_pattern, text)\n",
    "    \n",
    "    return hashtags\n",
    "\n",
    "# Example input\n",
    "tweet = \"Learning #Python is fun! #coding #100DaysOfCode #Regex_Challenge\"\n",
    "\n",
    "# Extract hashtags\n",
    "result = extract_hashtags(tweet)\n",
    "\n",
    "# Print output\n",
    "print(result)\n"
   ]
  },
  {
   "cell_type": "code",
   "execution_count": null,
   "id": "b4a02416-3d79-4b01-a25e-18298fc5f40b",
   "metadata": {},
   "outputs": [],
   "source": []
  }
 ],
 "metadata": {
  "kernelspec": {
   "display_name": "Python 3 (ipykernel)",
   "language": "python",
   "name": "python3"
  },
  "language_info": {
   "codemirror_mode": {
    "name": "ipython",
    "version": 3
   },
   "file_extension": ".py",
   "mimetype": "text/x-python",
   "name": "python",
   "nbconvert_exporter": "python",
   "pygments_lexer": "ipython3",
   "version": "3.12.7"
  }
 },
 "nbformat": 4,
 "nbformat_minor": 5
}
