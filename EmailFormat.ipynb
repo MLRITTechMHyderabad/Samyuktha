{
 "cells": [
  {
   "cell_type": "code",
   "execution_count": 2,
   "id": "e3e23f14-bbb5-4b77-bd76-de29d2bd821f",
   "metadata": {},
   "outputs": [
    {
     "name": "stdout",
     "output_type": "stream",
     "text": [
      "['support@example.com', 'john.doe123@company.org', 'jane_doe@domain.co.uk']\n"
     ]
    }
   ],
   "source": [
    "import re\n",
    "\n",
    "def extract_valid_emails(text):\n",
    "    # Regex pattern updated to capture the entire email\n",
    "    email_pattern = r'\\b[a-zA-Z0-9]+[a-zA-Z0-9._-]*@[a-zA-Z0-9-]+(?:\\.[a-zA-Z]{2,})+\\b'\n",
    "    \n",
    "    # Find all valid email matches\n",
    "    valid_emails = re.findall(email_pattern, text)\n",
    "    \n",
    "    return valid_emails\n",
    "\n",
    "# Example input\n",
    "text = \"Contact us at support@example.com, john.doe123@company.org, or invalid-email@com. Also, try jane_doe@domain.co.uk.\"\n",
    "\n",
    "# Extract valid emails\n",
    "emails = extract_valid_emails(text)\n",
    "\n",
    "# Print output\n",
    "print(emails)\n",
    "\n"
   ]
  },
  {
   "cell_type": "code",
   "execution_count": null,
   "id": "82a24cad-0194-4dec-8694-d20d410f3e2a",
   "metadata": {},
   "outputs": [],
   "source": []
  }
 ],
 "metadata": {
  "kernelspec": {
   "display_name": "Python 3 (ipykernel)",
   "language": "python",
   "name": "python3"
  },
  "language_info": {
   "codemirror_mode": {
    "name": "ipython",
    "version": 3
   },
   "file_extension": ".py",
   "mimetype": "text/x-python",
   "name": "python",
   "nbconvert_exporter": "python",
   "pygments_lexer": "ipython3",
   "version": "3.12.7"
  }
 },
 "nbformat": 4,
 "nbformat_minor": 5
}
