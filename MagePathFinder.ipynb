{
 "cells": [
  {
   "cell_type": "code",
   "execution_count": 3,
   "id": "4b9c1289-dcd2-4c1c-9d9a-27ecae9aa497",
   "metadata": {},
   "outputs": [
    {
     "name": "stdout",
     "output_type": "stream",
     "text": [
      "Is there a valid path?\n",
      "True\n",
      "Length of the shortest path:\n",
      "8\n"
     ]
    }
   ],
   "source": [
    "from collections import deque\n",
    "\n",
    "def is_path_possible(maze):\n",
    "    return shortest_path_length(maze) != -1\n",
    "\n",
    "def shortest_path_length(maze):\n",
    "    if not maze or maze[0][0] == 1:\n",
    "        return -1\n",
    "\n",
    "    rows, cols = len(maze), len(maze[0])\n",
    "    visited = [[False for _ in range(cols)] for _ in range(rows)]\n",
    "    queue = deque([(0, 0, 0)])  \n",
    "    visited[0][0] = True\n",
    "\n",
    "    directions = [(-1, 0), (1, 0), (0, -1), (0, 1)]\n",
    "\n",
    "    while queue:\n",
    "        r, c, dist = queue.popleft()\n",
    "\n",
    "        if r == rows - 1 and c == cols - 1:\n",
    "            return dist\n",
    "\n",
    "        for dr, dc in directions:\n",
    "            nr, nc = r + dr, c + dc\n",
    "            if 0 <= nr < rows and 0 <= nc < cols and maze[nr][nc] == 0 and not visited[nr][nc]:\n",
    "                visited[nr][nc] = True\n",
    "                queue.append((nr, nc, dist + 1))\n",
    "\n",
    "    return -1\n",
    "\n",
    "maze = [\n",
    "    [0, 1, 0, 0, 0],\n",
    "    [0, 1, 0, 1, 0],\n",
    "    [0, 0, 0, 1, 0],\n",
    "    [1, 1, 0, 0, 0],\n",
    "    [0, 0, 0, 1, 0]\n",
    "]\n",
    "\n",
    "print(\"Is there a valid path?\")\n",
    "print(is_path_possible(maze))\n",
    "\n",
    "print(\"Length of the shortest path:\")\n",
    "print(shortest_path_length(maze))\n",
    "\n"
   ]
  },
  {
   "cell_type": "code",
   "execution_count": null,
   "id": "1b435bba-b8a8-4246-a5d1-b4655d3810d5",
   "metadata": {},
   "outputs": [],
   "source": []
  }
 ],
 "metadata": {
  "kernelspec": {
   "display_name": "Python 3 (ipykernel)",
   "language": "python",
   "name": "python3"
  },
  "language_info": {
   "codemirror_mode": {
    "name": "ipython",
    "version": 3
   },
   "file_extension": ".py",
   "mimetype": "text/x-python",
   "name": "python",
   "nbconvert_exporter": "python",
   "pygments_lexer": "ipython3",
   "version": "3.12.7"
  }
 },
 "nbformat": 4,
 "nbformat_minor": 5
}
