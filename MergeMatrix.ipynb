{
 "cells": [
  {
   "cell_type": "code",
   "execution_count": 2,
   "id": "82c57274-1d8d-4d22-a254-af15748870a4",
   "metadata": {},
   "outputs": [
    {
     "name": "stdout",
     "output_type": "stream",
     "text": [
      "{'a': 5, 'b': [2, 4], 'c': [3, 5], 'e': 5, 'd': 6}\n"
     ]
    }
   ],
   "source": [
    "d1 = {'a': 5, 'b': 2, 'c': 3,'e':5}\n",
    "d2 = {'b': 4, 'c': 5, 'd': 6}\n",
    "merged_dict = {}\n",
    "for key in d1:\n",
    "    merged_dict[key] = d1[key]\n",
    "for key in d2:\n",
    "    if key in merged_dict:\n",
    "        merged_dict[key] = [merged_dict[key], d2[key]]\n",
    "    else:\n",
    "        merged_dict[key] = d2[key]\n",
    "print(merged_dict)"
   ]
  },
  {
   "cell_type": "code",
   "execution_count": null,
   "id": "dc37f4ac-95ec-402a-8894-06fbfc4ece04",
   "metadata": {},
   "outputs": [],
   "source": []
  }
 ],
 "metadata": {
  "kernelspec": {
   "display_name": "Python 3 (ipykernel)",
   "language": "python",
   "name": "python3"
  },
  "language_info": {
   "codemirror_mode": {
    "name": "ipython",
    "version": 3
   },
   "file_extension": ".py",
   "mimetype": "text/x-python",
   "name": "python",
   "nbconvert_exporter": "python",
   "pygments_lexer": "ipython3",
   "version": "3.12.7"
  }
 },
 "nbformat": 4,
 "nbformat_minor": 5
}
