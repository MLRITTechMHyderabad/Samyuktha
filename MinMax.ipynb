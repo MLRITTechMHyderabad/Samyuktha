{
 "cells": [
  {
   "cell_type": "code",
   "execution_count": 2,
   "id": "f5b747af-8726-434d-9734-0c38aba88f69",
   "metadata": {},
   "outputs": [
    {
     "name": "stdout",
     "output_type": "stream",
     "text": [
      "Maximum element in matrix: 9\n",
      "Minimum element in matrix: 1\n"
     ]
    }
   ],
   "source": [
    "rows=3\n",
    "cols=3\n",
    "li = [\n",
    "    [1, 2, 3],\n",
    "    [4, 5, 6],\n",
    "    [7, 8, 9]\n",
    "]\n",
    "max_element = li[0][0]\n",
    "min_element = li[0][0]\n",
    "\n",
    "for i in range(rows):\n",
    "    for j in range(cols):\n",
    "        if li[i][j] > max_element:\n",
    "            max_element = li[i][j]\n",
    "        if li[i][j] < min_element:\n",
    "            min_element = li[i][j]\n",
    "\n",
    "print(\"Maximum element in matrix:\" ,max_element)\n",
    "print(\"Minimum element in matrix:\" ,min_element)"
   ]
  },
  {
   "cell_type": "code",
   "execution_count": null,
   "id": "926b4879-ff02-4760-9351-9296a6397df6",
   "metadata": {},
   "outputs": [],
   "source": []
  }
 ],
 "metadata": {
  "kernelspec": {
   "display_name": "Python 3 (ipykernel)",
   "language": "python",
   "name": "python3"
  },
  "language_info": {
   "codemirror_mode": {
    "name": "ipython",
    "version": 3
   },
   "file_extension": ".py",
   "mimetype": "text/x-python",
   "name": "python",
   "nbconvert_exporter": "python",
   "pygments_lexer": "ipython3",
   "version": "3.12.7"
  }
 },
 "nbformat": 4,
 "nbformat_minor": 5
}
