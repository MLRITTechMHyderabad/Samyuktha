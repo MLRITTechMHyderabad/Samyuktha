{
 "cells": [
  {
   "cell_type": "code",
   "execution_count": 1,
   "id": "ce9bcc3f-2bb7-4e1c-93ab-a085ec8eb1db",
   "metadata": {},
   "outputs": [
    {
     "name": "stdout",
     "output_type": "stream",
     "text": [
      "{1: 3, 23: 3, 4: 1, 3: 1, 6: 4}\n"
     ]
    }
   ],
   "source": [
    "a = [1,23,4,23,23,3,6,6,6,1,6,1]\n",
    "b = {}\n",
    "for c in a:\n",
    "   if c in b:\n",
    "     b[c] += 1\n",
    "    \n",
    "   else:\n",
    "     b[c] = 1\n",
    "print(b)"
   ]
  },
  {
   "cell_type": "code",
   "execution_count": null,
   "id": "3cad96ce-4c8d-4184-a0f3-3f5b70b81036",
   "metadata": {},
   "outputs": [],
   "source": []
  }
 ],
 "metadata": {
  "kernelspec": {
   "display_name": "Python 3 (ipykernel)",
   "language": "python",
   "name": "python3"
  },
  "language_info": {
   "codemirror_mode": {
    "name": "ipython",
    "version": 3
   },
   "file_extension": ".py",
   "mimetype": "text/x-python",
   "name": "python",
   "nbconvert_exporter": "python",
   "pygments_lexer": "ipython3",
   "version": "3.12.7"
  }
 },
 "nbformat": 4,
 "nbformat_minor": 5
}
