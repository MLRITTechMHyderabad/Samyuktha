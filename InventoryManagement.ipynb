{
 "cells": [
  {
   "cell_type": "code",
   "execution_count": 9,
   "id": "8641fdbe-ee67-44c9-b255-aff3722f118e",
   "metadata": {},
   "outputs": [
    {
     "ename": "NameError",
     "evalue": "name 'ChaiInventory' is not defined",
     "output_type": "error",
     "traceback": [
      "\u001b[1;31m---------------------------------------------------------------------------\u001b[0m",
      "\u001b[1;31mNameError\u001b[0m                                 Traceback (most recent call last)",
      "Cell \u001b[1;32mIn[9], line 34\u001b[0m\n\u001b[0;32m     32\u001b[0m     \u001b[38;5;28;01mdef\u001b[39;00m \u001b[38;5;21mdisplay_info\u001b[39m(\u001b[38;5;28mself\u001b[39m):\n\u001b[0;32m     33\u001b[0m        \u001b[38;5;28mprint\u001b[39m(\u001b[38;5;124m\"\u001b[39m\u001b[38;5;124mName:\u001b[39m\u001b[38;5;124m\"\u001b[39m,\u001b[38;5;28mself\u001b[39m\u001b[38;5;241m.\u001b[39mname ,\u001b[38;5;124m\"\u001b[39m\u001b[38;5;124m| Price per cup: $\u001b[39m\u001b[38;5;124m\"\u001b[39m,\u001b[38;5;28mself\u001b[39m\u001b[38;5;241m.\u001b[39mcalculate_price,\u001b[38;5;124m\"\u001b[39m\u001b[38;5;124m| Stock: \u001b[39m\u001b[38;5;124m\"\u001b[39m,\u001b[38;5;28mself\u001b[39m\u001b[38;5;241m.\u001b[39mquantity_in_stock)\n\u001b[1;32m---> 34\u001b[0m \u001b[38;5;28;01mclass\u001b[39;00m \u001b[38;5;21;01mChaiInventory\u001b[39;00m:\n\u001b[0;32m     35\u001b[0m     inventory\u001b[38;5;241m=\u001b[39mChaiInventory()\n\u001b[0;32m     36\u001b[0m     chai1\u001b[38;5;241m=\u001b[39mMasalaChai(\u001b[38;5;124m\"\u001b[39m\u001b[38;5;124mMasala Chai\u001b[39m\u001b[38;5;124m\"\u001b[39m,\u001b[38;5;241m20\u001b[39m,\u001b[38;5;241m50\u001b[39m)\n",
      "Cell \u001b[1;32mIn[9], line 35\u001b[0m, in \u001b[0;36mChaiInventory\u001b[1;34m()\u001b[0m\n\u001b[0;32m     34\u001b[0m \u001b[38;5;28;01mclass\u001b[39;00m \u001b[38;5;21;01mChaiInventory\u001b[39;00m:\n\u001b[1;32m---> 35\u001b[0m     inventory\u001b[38;5;241m=\u001b[39mChaiInventory()\n\u001b[0;32m     36\u001b[0m     chai1\u001b[38;5;241m=\u001b[39mMasalaChai(\u001b[38;5;124m\"\u001b[39m\u001b[38;5;124mMasala Chai\u001b[39m\u001b[38;5;124m\"\u001b[39m,\u001b[38;5;241m20\u001b[39m,\u001b[38;5;241m50\u001b[39m)\n\u001b[0;32m     37\u001b[0m     chai1\u001b[38;5;241m.\u001b[39mcalculate_price()\n",
      "\u001b[1;31mNameError\u001b[0m: name 'ChaiInventory' is not defined"
     ]
    }
   ],
   "source": [
    "from abc import ABC, abstractmethod\n",
    "\n",
    "# Abstract Base Class\n",
    "class Chai(ABC):\n",
    "    def __init__(self, name, base_price, quantity_in_stock):\n",
    "        self.name = name\n",
    "        self.base_price = base_price\n",
    "        self.quantity_in_stock = quantity_in_stock\n",
    "\n",
    "    @abstractmethod\n",
    "    def calculate_price(self):\n",
    "        pass\n",
    "\n",
    "    @abstractmethod\n",
    "    def display_info(self):\n",
    "        pass\n",
    "\n",
    "# Subclass for Masala Chai\n",
    "class MasalaChai(Chai):\n",
    "    def calculate_price(self):\n",
    "        return self.base_price + 10  # ₹10 spice cost\n",
    "\n",
    "    def display_info(self):\n",
    "        price = self.calculate_price()\n",
    "        print(f\"Name: {self.name} | Price per cup: ₹{price} | Stock: {self.quantity_in_stock}\")\n",
    "\n",
    "\n",
    "class GingerChai(Chai):\n",
    "    def calculate_price(self):\n",
    "        return self.base_price + 8  \n",
    "\n",
    "    def display_info(self):\n",
    "        price = self.calculate_price()\n",
    "        print(f\"Name: {self.name} | Price per cup: ₹{price} | Stock: {self.quantity_in_stock}\")\n",
    "\n",
    "class ElaichiChai(Chai):\n",
    "    def calculate_price(self):\n",
    "        return self.base_price + 12  \n",
    "\n",
    "    def display_info(self):\n",
    "        price = self.calculate_price()\n",
    "        print(f\"Name: {self.name} | Price per cup: ₹{price} | Stock: {self.quantity_in_stock}\")\n",
    "\n",
    "class ChaiInventory:\n",
    "    def __init__(self):\n",
    "        self.inventory = []\n",
    "\n",
    "    def add_chai(self, chai_obj):\n",
    "        if isinstance(chai_obj, Chai):\n",
    "            self.inventory.append(chai_obj)\n",
    "\n",
    "    def show_inventory(self):\n",
    "        for chai in self.inventory:\n",
    "            chai.display_info()\n",
    "\n",
    "    def get_total_inventory_value(self):\n",
    "        total = 0\n",
    "        for chai in self.inventory:\n",
    "            total += chai.calculate_price() * chai.quantity_in_stock\n",
    "        return total\n"
   ]
  },
  {
   "cell_type": "code",
   "execution_count": null,
   "id": "11465dac-3149-4fd6-98f0-7e9c47a5be9f",
   "metadata": {},
   "outputs": [],
   "source": []
  }
 ],
 "metadata": {
  "kernelspec": {
   "display_name": "Python 3 (ipykernel)",
   "language": "python",
   "name": "python3"
  },
  "language_info": {
   "codemirror_mode": {
    "name": "ipython",
    "version": 3
   },
   "file_extension": ".py",
   "mimetype": "text/x-python",
   "name": "python",
   "nbconvert_exporter": "python",
   "pygments_lexer": "ipython3",
   "version": "3.12.7"
  }
 },
 "nbformat": 4,
 "nbformat_minor": 5
}
