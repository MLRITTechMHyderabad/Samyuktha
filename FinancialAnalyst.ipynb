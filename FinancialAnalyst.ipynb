{
 "cells": [
  {
   "cell_type": "code",
   "execution_count": 2,
   "id": "84470919-9dff-4855-b67d-ec84980c000c",
   "metadata": {},
   "outputs": [
    {
     "name": "stdout",
     "output_type": "stream",
     "text": [
      "[[353 389 113 362 358]\n",
      " [258 346 229 361 383]\n",
      " [118 376 334 355 147]\n",
      " [480 326 445 498 323]\n",
      " [361 400 493 158 419]\n",
      " [480 494 478 204 310]\n",
      " [211 234 245 451 483]\n",
      " [104 283 267 190 362]\n",
      " [175 451 360 223 283]\n",
      " [494 388 385 210 346]\n",
      " [423 346 371 388 338]\n",
      " [375 226 203 101 467]\n",
      " [490 307 351 290 479]\n",
      " [454 347 103 218 490]\n",
      " [303 396 357 262 339]\n",
      " [107 439 497 447 201]\n",
      " [410 310 238 182 408]\n",
      " [460 355 357 103 367]\n",
      " [224 274 173 331 213]\n",
      " [145 189 398 484 265]\n",
      " [323 281 196 167 338]\n",
      " [225 391 499 443 223]\n",
      " [108 394 459 203 360]\n",
      " [223 347 279 338 240]\n",
      " [115 405 169 123 242]\n",
      " [202 199 187 231 399]\n",
      " [173 140 426 461 469]\n",
      " [300 413 115 267 199]\n",
      " [359 472 414 206 485]\n",
      " [136 265 134 256 460]]\n",
      "Average stock prices: [286.3        339.43333333 309.16666667 283.76666667 346.53333333]\n",
      "Highest price recorded:  499 at Day\n",
      "Normalized prices: [0.65326633 0.75125628 0.98492462 0.14321608 0.79899497]\n"
     ]
    }
   ],
   "source": [
    "import numpy as np\n",
    "arr1=np.random.randint(100,500,(30,5))\n",
    "print(arr1)\n",
    "avg=np.sum(arr1, axis=0)/30\n",
    "print(\"Average stock prices:\",avg)\n",
    "print(\"Highest price recorded: \",arr1.max(),\"at Day\")\n",
    "for i in range(0,len(arr1)):\n",
    "    for j in range(0,len(arr1[i])):\n",
    "        normalized_prices = (arr1[j] - arr1.min()) / (arr1.max() - arr1.min())\n",
    "print(\"Normalized prices:\", normalized_prices)"
   ]
  },
  {
   "cell_type": "code",
   "execution_count": null,
   "id": "31cb1293-0e50-4a78-863c-ae01bc85088c",
   "metadata": {},
   "outputs": [],
   "source": []
  }
 ],
 "metadata": {
  "kernelspec": {
   "display_name": "Python 3 (ipykernel)",
   "language": "python",
   "name": "python3"
  },
  "language_info": {
   "codemirror_mode": {
    "name": "ipython",
    "version": 3
   },
   "file_extension": ".py",
   "mimetype": "text/x-python",
   "name": "python",
   "nbconvert_exporter": "python",
   "pygments_lexer": "ipython3",
   "version": "3.12.7"
  }
 },
 "nbformat": 4,
 "nbformat_minor": 5
}
